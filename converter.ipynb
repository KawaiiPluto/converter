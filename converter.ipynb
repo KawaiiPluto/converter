{
  "nbformat": 4,
  "nbformat_minor": 0,
  "metadata": {
    "colab": {
      "provenance": []
    },
    "kernelspec": {
      "name": "python3",
      "display_name": "Python 3"
    },
    "language_info": {
      "name": "python"
    }
  },
  "cells": [
    {
      "cell_type": "code",
      "execution_count": null,
      "metadata": {
        "id": "5MNqyulTZP7S"
      },
      "outputs": [],
      "source": [
        "conversion_dict = {\n",
        "    \"C\": 1.0,\n",
        "    \"F\": 1.8,\n",
        "    \"m\": 1.0,\n",
        "    \"cm\": 100.0,\n",
        "    \"kg\": 1.0,\n",
        "    \"g\": 1000.0,\n",
        "    \"USD\": 1.0,\n",
        "    \"EGP\": 15.7\n",
        "}\n",
        "\n",
        "def convert(value, unit_from, unit_to):\n",
        "    # If the units are the same, return the value as it is\n",
        "    if unit_from == unit_to:\n",
        "        return value\n",
        "    # If the units are Celsius and Fahrenheit, use the formula to convert them\n",
        "    elif unit_from == \"C\" and unit_to == \"F\":\n",
        "        return value * conversion_dict[\"F\"] + 32\n",
        "    elif unit_from == \"F\" and unit_to == \"C\":\n",
        "        return (value - 32) / conversion_dict[\"F\"]\n",
        "    # Otherwise, use the conversion factor to convert them\n",
        "    else:\n",
        "        return value * conversion_dict[unit_from] / conversion_dict[unit_to]\n",
        "\n",
        "# Test the function with some examples\n",
        "print(convert(100, \"C\", \"F\")) # : 212.0\n",
        "print(convert(32, \"F\", \"C\")) # : 0.0\n",
        "print(convert(1, \"m\", \"cm\")) # : 100.0\n",
        "print(convert(50, \"cm\", \"m\")) # : 0.5\n",
        "print(convert(1, \"kg\", \"g\")) # : 1000.0\n",
        "print(convert(500, \"g\", \"kg\")) # : 0.5\n",
        "print(convert(1, \"USD\", \"EGP\")) # : 15.7\n",
        "print(convert(100, \"EGP\", \"USD\")) # : 6.369426751592357\n"
      ]
    }
  ]
}